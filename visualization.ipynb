{
 "cells": [
  {
   "cell_type": "markdown",
   "id": "85120305",
   "metadata": {},
   "source": [
    "체크포인트를 불러와서 결과를 시각화"
   ]
  },
  {
   "cell_type": "code",
   "execution_count": 1,
   "id": "54eddf35",
   "metadata": {},
   "outputs": [],
   "source": [
    "import os\n",
    "import torch\n",
    "import numpy as np\n",
    "import matplotlib.pyplot as plt\n",
    "from matplotlib.patches import Patch\n",
    "from pathlib import Path\n",
    "from tqdm import tqdm\n",
    "import random"
   ]
  },
  {
   "cell_type": "markdown",
   "id": "7875b6f5",
   "metadata": {},
   "source": [
    "변수 설정"
   ]
  },
  {
   "cell_type": "code",
   "execution_count": 2,
   "id": "c3171ac9",
   "metadata": {},
   "outputs": [],
   "source": [
    "# ===== VISUALIZATION 설정 =====\n",
    "VISUALIZE_ALL = False  # True: 전체 테스트셋, False: 일부만\n",
    "NUM_SAMPLES = 20  # VISUALIZE_ALL=False일 때 시각화할 샘플 수\n",
    "RANDOM_SAMPLE = True  # True: 랜덤 샘플링, False: 순차적\n",
    "\n",
    "# ===== 실험 설정 =====\n",
    "DATASET_ROOT = \"./dataset\"\n",
    "test_dataset = 'LEVIR-CD+'\n",
    "test_model = 'A2Net'\n",
    "use_base = True"
   ]
  },
  {
   "cell_type": "markdown",
   "id": "bc0b53ce",
   "metadata": {},
   "source": [
    "경로 설정"
   ]
  },
  {
   "cell_type": "code",
   "execution_count": 3,
   "id": "86427faf",
   "metadata": {},
   "outputs": [],
   "source": [
    "checkpoint_path = Path(f\"experiments/{test_dataset}/{test_model}/checkpoints/best_model.pth\")\n",
    "save_dir = Path(f\"experiments/{test_dataset}/{test_model}/visualization\")\n",
    "save_dir.mkdir(parents=True, exist_ok=True)\n"
   ]
  },
  {
   "cell_type": "markdown",
   "id": "dfad5927",
   "metadata": {},
   "source": [
    "GPU"
   ]
  },
  {
   "cell_type": "code",
   "execution_count": 4,
   "id": "80e229f8",
   "metadata": {},
   "outputs": [
    {
     "name": "stdout",
     "output_type": "stream",
     "text": [
      "Using GPU: 3\n",
      "Device: cuda\n"
     ]
    }
   ],
   "source": [
    "# 단일 GPU 사용\n",
    "GPU_ID = 3\n",
    "os.environ['CUDA_VISIBLE_DEVICES'] = str(GPU_ID)\n",
    "DEVICE = torch.device('cuda' if torch.cuda.is_available() else 'cpu')\n",
    "print(f\"Using GPU: {GPU_ID}\")\n",
    "print(f\"Device: {DEVICE}\")\n",
    "\n",
    "# 멀티 GPU 사용 \n",
    "# # GPU_IDS = [0, 1, 2, 3]  # 사용할 GPU 리스트\n",
    "# os.environ['CUDA_VISIBLE_DEVICES'] = ','.join(map(str, GPU_IDS))\n",
    "# DEVICE = torch.device('cuda' if torch.cuda.is_available() else 'cpu')\n",
    "# USE_MULTI_GPU = len(GPU_IDS) > 1 and torch.cuda.device_count() > 1\n",
    "# print(f\"Using GPUs: {GPU_IDS}\")\n",
    "# print(f\"Available GPU count: {torch.cuda.device_count()}\")\n",
    "# if USE_MULTI_GPU:\n",
    "#     BATCH_SIZE = BATCH_SIZE * len(GPU_IDS)  # 멀티 GPU시 배치 크기 조정\n",
    "#     print(f\"Adjusted batch size for multi-GPU: {BATCH_SIZE}\")\n",
    "# 시드 설정 (재현가능성)"
   ]
  },
  {
   "cell_type": "code",
   "execution_count": 5,
   "id": "4872564e",
   "metadata": {},
   "outputs": [
    {
     "name": "stderr",
     "output_type": "stream",
     "text": [
      "/userHome/userhome4/kyoungmin/miniconda3/envs/cd_efficient/lib/python3.9/site-packages/torchvision/models/_utils.py:208: UserWarning: The parameter 'pretrained' is deprecated since 0.13 and may be removed in the future, please use 'weights' instead.\n",
      "  warnings.warn(\n",
      "/userHome/userhome4/kyoungmin/miniconda3/envs/cd_efficient/lib/python3.9/site-packages/torchvision/models/_utils.py:223: UserWarning: Arguments other than a weight enum or `None` for 'weights' are deprecated since 0.13 and may be removed in the future. The current behavior is equivalent to passing `weights=MobileNet_V2_Weights.IMAGENET1K_V1`. You can also use `weights=MobileNet_V2_Weights.DEFAULT` to get the most up-to-date weights.\n",
      "  warnings.warn(msg)\n"
     ]
    },
    {
     "name": "stdout",
     "output_type": "stream",
     "text": [
      "Model: A2NetBase\n",
      "Best F1: 0.4893\n"
     ]
    },
    {
     "name": "stderr",
     "output_type": "stream",
     "text": [
      "/userHome/userhome4/kyoungmin/miniconda3/envs/cd_efficient/lib/python3.9/site-packages/tqdm/auto.py:21: TqdmWarning: IProgress not found. Please update jupyter and ipywidgets. See https://ipywidgets.readthedocs.io/en/stable/user_install.html\n",
      "  from .autonotebook import tqdm as notebook_tqdm\n"
     ]
    },
    {
     "name": "stdout",
     "output_type": "stream",
     "text": [
      "Loaded 10192 images from LEVIR-CD+/train\n",
      "Loaded 1568 images from LEVIR-CD+/val\n",
      "Loaded 4000 images from LEVIR-CD+/test\n",
      "Test samples: 4000\n",
      "Visualizing 20 samples...\n"
     ]
    },
    {
     "name": "stderr",
     "output_type": "stream",
     "text": [
      "Processing: 100%|██████████| 4000/4000 [00:31<00:00, 127.01it/s, saved=20, f1=0.206]"
     ]
    },
    {
     "name": "stdout",
     "output_type": "stream",
     "text": [
      "\n",
      "✓ Saved 20 visualizations to experiments/LEVIR-CD+/A2Net/visualization\n",
      "Average F1: 0.1446\n",
      "Best F1: 0.7416\n",
      "Worst F1: 0.0000\n"
     ]
    },
    {
     "name": "stderr",
     "output_type": "stream",
     "text": [
      "\n"
     ]
    }
   ],
   "source": [
    "\n",
    "# %% 모델 로드\n",
    "import importlib\n",
    "\n",
    "def get_model_class(model_name, use_base=False):\n",
    "    model_name_lower = model_name.lower()\n",
    "    if use_base:\n",
    "        module_path = f'models.{model_name_lower}_base'\n",
    "        class_name = f'{model_name}Base'\n",
    "    else:\n",
    "        module_path = f'models.{model_name_lower}'\n",
    "        class_name = model_name\n",
    "    \n",
    "    module = importlib.import_module(module_path)\n",
    "    return getattr(module, class_name)\n",
    "\n",
    "# 모델 로드\n",
    "ModelClass = get_model_class(test_model, use_base=use_base)\n",
    "model = ModelClass(num_classes=1).to(DEVICE)\n",
    "\n",
    "checkpoint = torch.load(checkpoint_path, map_location=DEVICE)\n",
    "model.load_state_dict(checkpoint['model_state_dict'])\n",
    "model.eval()\n",
    "\n",
    "print(f\"Model: {ModelClass.__name__}\")\n",
    "print(f\"Best F1: {checkpoint.get('best_f1', 0):.4f}\")\n",
    "\n",
    "# %% 데이터로더\n",
    "from utils import create_dataloaders\n",
    "\n",
    "_, _, test_loader = create_dataloaders(\n",
    "    root_dir=DATASET_ROOT,\n",
    "    dataset_name=test_dataset,\n",
    "    batch_size=1,\n",
    "    num_workers=2,\n",
    "    augment=False\n",
    ")\n",
    "\n",
    "total_samples = len(test_loader)\n",
    "print(f\"Test samples: {total_samples}\")\n",
    "\n",
    "# %% Visualization 실행\n",
    "from utils.visualization import save_visualization\n",
    "\n",
    "# 샘플 선택\n",
    "if VISUALIZE_ALL:\n",
    "    sample_indices = list(range(total_samples))\n",
    "else:\n",
    "    if RANDOM_SAMPLE:\n",
    "        sample_indices = random.sample(range(total_samples), min(NUM_SAMPLES, total_samples))\n",
    "        sample_indices.sort()\n",
    "    else:\n",
    "        sample_indices = list(range(min(NUM_SAMPLES, total_samples)))\n",
    "\n",
    "print(f\"Visualizing {len(sample_indices)} samples...\")\n",
    "\n",
    "# 실행\n",
    "metrics_list = []\n",
    "pbar = tqdm(enumerate(test_loader), total=total_samples, desc=\"Processing\")\n",
    "viz_count = 0\n",
    "\n",
    "for idx, batch in pbar:\n",
    "    if idx not in sample_indices:\n",
    "        continue\n",
    "    \n",
    "    # 데이터\n",
    "    img1 = batch['img1'].to(DEVICE)\n",
    "    img2 = batch['img2'].to(DEVICE)\n",
    "    label = batch['label'].to(DEVICE)\n",
    "    filename = batch['filename'][0]\n",
    "    \n",
    "    # 추론\n",
    "    with torch.no_grad():\n",
    "        output = model(img1, img2)\n",
    "        pred = torch.sigmoid(output)\n",
    "    \n",
    "    # 메트릭\n",
    "    pred_binary = (pred > 0.5).float()\n",
    "    tp = ((pred_binary == 1) & (label == 1)).sum().item()\n",
    "    fp = ((pred_binary == 1) & (label == 0)).sum().item()\n",
    "    fn = ((pred_binary == 0) & (label == 1)).sum().item()\n",
    "    \n",
    "    f1 = 2*tp / (2*tp + fp + fn + 1e-7)\n",
    "    metrics_list.append(f1)\n",
    "    \n",
    "    # 저장\n",
    "    save_name = f\"{viz_count:04d}_{Path(filename).stem}_f1_{f1:.3f}\"\n",
    "    save_visualization(\n",
    "        img1.squeeze(0),\n",
    "        img2.squeeze(0),\n",
    "        label.squeeze(0),\n",
    "        pred.squeeze(0),\n",
    "        save_dir,\n",
    "        save_name\n",
    "    )\n",
    "    \n",
    "    viz_count += 1\n",
    "    pbar.set_postfix({'saved': viz_count, 'f1': f'{f1:.3f}'})\n",
    "\n",
    "# %% 결과\n",
    "print(f\"\\n✓ Saved {viz_count} visualizations to {save_dir}\")\n",
    "if metrics_list:\n",
    "    print(f\"Average F1: {np.mean(metrics_list):.4f}\")\n",
    "    print(f\"Best F1: {max(metrics_list):.4f}\")\n",
    "    print(f\"Worst F1: {min(metrics_list):.4f}\")"
   ]
  }
 ],
 "metadata": {
  "kernelspec": {
   "display_name": "cd_efficient",
   "language": "python",
   "name": "python3"
  },
  "language_info": {
   "codemirror_mode": {
    "name": "ipython",
    "version": 3
   },
   "file_extension": ".py",
   "mimetype": "text/x-python",
   "name": "python",
   "nbconvert_exporter": "python",
   "pygments_lexer": "ipython3",
   "version": "3.9.24"
  }
 },
 "nbformat": 4,
 "nbformat_minor": 5
}
