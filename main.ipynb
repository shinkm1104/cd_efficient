{
 "cells": [
  {
   "cell_type": "markdown",
   "id": "209fb905",
   "metadata": {},
   "source": [
    "import Basic Module"
   ]
  },
  {
   "cell_type": "code",
   "execution_count": null,
   "id": "66b3489f",
   "metadata": {},
   "outputs": [],
   "source": [
    "import os\n",
    "import torch\n",
    "import numpy as np\n",
    "from pathlib import Path\n",
    "import time\n",
    "from datetime import datetime, timedelta\n",
    "from tqdm import tqdm\n",
    "import importlib\n",
    "\n",
    "# Utils import (모듈화)\n",
    "from utils import create_dataloaders, CDMetrics, get_loss_fn\n",
    "\n"
   ]
  },
  {
   "cell_type": "markdown",
   "id": "6759fe0a",
   "metadata": {},
   "source": [
    "CUDA(GPU) 확인"
   ]
  },
  {
   "cell_type": "code",
   "execution_count": 35,
   "id": "6a39f554",
   "metadata": {},
   "outputs": [
    {
     "name": "stdout",
     "output_type": "stream",
     "text": [
      "Using GPU: 0\n",
      "Device: cuda\n"
     ]
    }
   ],
   "source": [
    "# 단일 GPU 사용\n",
    "GPU_ID = 0 \n",
    "os.environ['CUDA_VISIBLE_DEVICES'] = str(GPU_ID)\n",
    "DEVICE = torch.device('cuda' if torch.cuda.is_available() else 'cpu')\n",
    "print(f\"Using GPU: {GPU_ID}\")\n",
    "print(f\"Device: {DEVICE}\")\n",
    "\n",
    "# 멀티 GPU 사용 \n",
    "# # GPU_IDS = [0, 1, 2, 3]  # 사용할 GPU 리스트\n",
    "# os.environ['CUDA_VISIBLE_DEVICES'] = ','.join(map(str, GPU_IDS))\n",
    "# DEVICE = torch.device('cuda' if torch.cuda.is_available() else 'cpu')\n",
    "# USE_MULTI_GPU = len(GPU_IDS) > 1 and torch.cuda.device_count() > 1\n",
    "# print(f\"Using GPUs: {GPU_IDS}\")\n",
    "# print(f\"Available GPU count: {torch.cuda.device_count()}\")\n",
    "# if USE_MULTI_GPU:\n",
    "#     BATCH_SIZE = BATCH_SIZE * len(GPU_IDS)  # 멀티 GPU시 배치 크기 조정\n",
    "#     print(f\"Adjusted batch size for multi-GPU: {BATCH_SIZE}\")\n",
    "# 시드 설정 (재현가능성)"
   ]
  },
  {
   "cell_type": "markdown",
   "id": "2d79a069",
   "metadata": {},
   "source": [
    "데이터셋 & 모델 리스트"
   ]
  },
  {
   "cell_type": "code",
   "execution_count": 36,
   "id": "1184ddc7",
   "metadata": {},
   "outputs": [],
   "source": [
    "DATASET_ROOT = \"./dataset\"  # 심볼릭 링크된 데이터셋 루트 폴더\n",
    "DATASET_LIST = [\n",
    "    'LEVIR-CD+',\n",
    "    'WHU-CD',\n",
    "    'CLCD',\n",
    "    'CaBuAr-CD',\n",
    "    'S2Looking-CD',\n",
    "    'SEN1Floods11-CD'\n",
    "]\n",
    "\n",
    "MODEL_LIST = [\n",
    "    'A2Net',\n",
    "    'Changer',\n",
    "    'Change3D',\n",
    "    'STRobustNet',\n",
    "    'USSFC-Net'\n",
    "    # 'ChangeMamba',\n",
    "    # 'CDMamba',\n",
    "    # 'ChangeCLIP',\n",
    "    # 'EATDER'\n",
    "]"
   ]
  },
  {
   "cell_type": "markdown",
   "id": "3e9d2943",
   "metadata": {},
   "source": [
    "시드 설정"
   ]
  },
  {
   "cell_type": "code",
   "execution_count": 37,
   "id": "c1940def",
   "metadata": {},
   "outputs": [],
   "source": [
    "SEED = 42\n",
    "np.random.seed(SEED)\n",
    "torch.manual_seed(SEED)\n",
    "if torch.cuda.is_available():\n",
    "    torch.cuda.manual_seed(SEED)"
   ]
  },
  {
   "cell_type": "markdown",
   "id": "7cffb5c5",
   "metadata": {},
   "source": [
    "##### 고정 메트릭 설정"
   ]
  },
  {
   "cell_type": "code",
   "execution_count": 38,
   "id": "a71c3add",
   "metadata": {},
   "outputs": [],
   "source": [
    "# 이미지 설정\n",
    "IMG_SIZE = 256 \n",
    "IN_CHANNELS = 3  # RGB\n",
    "OUT_CHANNELS = 1  # Binary change detection\n",
    "\n",
    "# 학습 설정\n",
    "BATCH_SIZE = 16\n",
    "NUM_WORKERS = 4\n",
    "MAX_ITERATIONS = 100000  # 데이터셋 크기와 무관하게 고정\n"
   ]
  },
  {
   "cell_type": "markdown",
   "id": "2c0aa99c",
   "metadata": {},
   "source": [
    "##### 모델 & 데이터셋 설정"
   ]
  },
  {
   "cell_type": "code",
   "execution_count": null,
   "id": "a8ea8458",
   "metadata": {},
   "outputs": [
    {
     "name": "stdout",
     "output_type": "stream",
     "text": [
      "Test dataset: LEVIR-CD+\n",
      "Test model: Change3D\n"
     ]
    }
   ],
   "source": [
    "# 실험할 데이터셋 선택\n",
    "test_dataset = 'LEVIR-CD+'  # LEVIR-CD+\n",
    "# test_dataset = DATASET_LIST[0]  # LEVIR-CD+\n",
    "\n",
    "# 실험할 모델 선택\n",
    "test_model = 'A2Net'\n",
    "\n",
    "# True: 최소 구현, False: 전체 구현\n",
    "base = True  \n",
    "\n",
    "print(f\"Test dataset: {test_dataset}\")\n",
    "if test_model not in MODEL_LIST:\n",
    "    raise ValueError(f\"Model {test_model} not in MODEL_LIST. Choose from: {MODEL_LIST}\")\n",
    "print(f\"Test model: {test_model}\")\n",
    "print(f\"Using base version: {base}\")"
   ]
  },
  {
   "cell_type": "markdown",
   "id": "c49247ef",
   "metadata": {},
   "source": [
    "모델 동적 import"
   ]
  },
  {
   "cell_type": "code",
   "execution_count": null,
   "id": "c244ab05",
   "metadata": {},
   "outputs": [],
   "source": [
    "\n",
    "# %% 모델 동적 import\n",
    "import importlib\n",
    "\n",
    "def get_model_class(model_name, use_base=False):\n",
    "    \"\"\"모델 동적 import\"\"\"\n",
    "    \n",
    "    # 모델 매핑 (base와 full 버전)\n",
    "    model_mapping = {\n",
    "        'A2Net': {\n",
    "            'base': ('models.a2net_base', 'A2NetBase'),\n",
    "            'full': ('models.a2net', 'A2Net')  # 나중에 구현\n",
    "        },\n",
    "        'Change3D': {\n",
    "            'base': ('models.change3d_base', 'Change3DBase'),\n",
    "            'full': ('models.change3d', 'Change3D')\n",
    "        },\n",
    "        # 추가 모델들...\n",
    "    }\n",
    "    \n",
    "    if model_name not in model_mapping:\n",
    "        raise ValueError(f\"Model {model_name} not implemented\")\n",
    "    \n",
    "    # base/full 선택\n",
    "    version = 'base' if use_base else 'full'\n",
    "    module_path, class_name = model_mapping[model_name][version]\n",
    "    \n",
    "    try:\n",
    "        module = importlib.import_module(module_path)\n",
    "        model_class = getattr(module, class_name)\n",
    "        return model_class\n",
    "    except ImportError:\n",
    "        if use_base:\n",
    "            raise ImportError(f\"{model_name} base version not found at {module_path}\")\n",
    "        else:\n",
    "            print(f\"Full version not found, falling back to base version\")\n",
    "            return get_model_class(model_name, use_base=True)\n",
    "\n",
    "# 모델 클래스 가져오기\n",
    "ModelClass = get_model_class(test_model, use_base=base)\n",
    "print(f\"Loaded model: {ModelClass.__name__}\")\n"
   ]
  },
  {
   "cell_type": "code",
   "execution_count": 40,
   "id": "3a3b866e",
   "metadata": {},
   "outputs": [
    {
     "name": "stdout",
     "output_type": "stream",
     "text": [
      "Model configurations:\n",
      "  Optimizer: adam\n",
      "  Learning rate: 0.0002\n",
      "  Weight decay: 0.0001\n",
      "  Betas: (0.9, 0.999)\n",
      "  Scheduler: poly\n"
     ]
    }
   ],
   "source": [
    "from configs import get_model_config\n",
    "\n",
    "model_config = get_model_config(test_model)\n",
    "\n",
    "optimizer = model_config['optimizer']\n",
    "learning_rate = model_config['learning_rate']\n",
    "weight_decay = model_config['weight_decay']\n",
    "betas = model_config['betas']\n",
    "eps = model_config['eps']\n",
    "scheduler = model_config['scheduler']\n",
    "momentum = model_config['momentum']\n",
    "\n",
    "print(f\"Model configurations:\")\n",
    "print(f\"  Optimizer: {optimizer}\")\n",
    "print(f\"  Learning rate: {learning_rate}\")\n",
    "print(f\"  Weight decay: {weight_decay}\")\n",
    "if betas:\n",
    "    print(f\"  Betas: {betas}\")\n",
    "if momentum:\n",
    "    print(f\"  Momentum: {momentum}\")\n",
    "print(f\"  Scheduler: {scheduler}\")\n"
   ]
  },
  {
   "cell_type": "markdown",
   "id": "404bde24",
   "metadata": {},
   "source": [
    "옵티마이저 생성 함수"
   ]
  },
  {
   "cell_type": "code",
   "execution_count": null,
   "id": "b464924f",
   "metadata": {},
   "outputs": [],
   "source": [
    "def get_optimizer(model, config):\n",
    "    \"\"\"모델 설정에 따른 옵티마이저 생성\"\"\"\n",
    "    if config['optimizer'] == 'adam':\n",
    "        optimizer = torch.optim.Adam(\n",
    "            model.parameters(), \n",
    "            lr=config['learning_rate'],\n",
    "            betas=config['betas'],\n",
    "            eps=config['eps'],\n",
    "            weight_decay=config['weight_decay']\n",
    "        )\n",
    "    elif config['optimizer'] == 'adamw':\n",
    "        optimizer = torch.optim.AdamW(\n",
    "            model.parameters(),\n",
    "            lr=config['learning_rate'],\n",
    "            betas=config['betas'],\n",
    "            eps=config['eps'],\n",
    "            weight_decay=config['weight_decay']\n",
    "        )\n",
    "    elif config['optimizer'] == 'sgd':\n",
    "        optimizer = torch.optim.SGD(\n",
    "            model.parameters(),\n",
    "            lr=config['learning_rate'],\n",
    "            momentum=config['momentum'],\n",
    "            weight_decay=config['weight_decay']\n",
    "        )\n",
    "    else:\n",
    "        raise ValueError(f\"Unknown optimizer: {config['optimizer']}\")\n",
    "    \n",
    "    return optimizer"
   ]
  },
  {
   "cell_type": "markdown",
   "id": "ae099f70",
   "metadata": {},
   "source": [
    "실험 폴더 설정"
   ]
  },
  {
   "cell_type": "code",
   "execution_count": 41,
   "id": "ef46f343",
   "metadata": {},
   "outputs": [
    {
     "name": "stdout",
     "output_type": "stream",
     "text": [
      "Experiment directory: experiments/WHU-CD/Change3D\n"
     ]
    }
   ],
   "source": [
    "test_path = f\"experiments/{test_dataset}\"\n",
    "test_dir = Path(f\"{test_path}\")\n",
    "test_dir.mkdir(parents=True, exist_ok=True)\n",
    "\n",
    "model_dir = Path(f\"{test_path}/{test_model}\")\n",
    "model_dir.mkdir(parents=True, exist_ok=True)\n",
    "\n",
    "checkpoint_dir = model_dir / \"checkpoints\"\n",
    "checkpoint_dir.mkdir(exist_ok=True)\n",
    "\n",
    "print(f\"Experiment directory: {model_dir}\")"
   ]
  },
  {
   "cell_type": "markdown",
   "id": "c888eff1",
   "metadata": {},
   "source": [
    "Iteration 계산 \n",
    "MAX_ITERATIONS = 100000을 기준으로 epoch 수 계산\n"
   ]
  },
  {
   "cell_type": "code",
   "execution_count": 44,
   "id": "b884fb96",
   "metadata": {},
   "outputs": [
    {
     "name": "stdout",
     "output_type": "stream",
     "text": [
      "dataset/WHU-CD\n",
      "Dataset found: dataset/WHU-CD\n",
      "  train: 4233 images\n",
      "  val: 747 images\n",
      "  test: 2700 images\n",
      "\n",
      "Training iterations info:\n",
      "  Train samples: 4233\n",
      "  Iterations per epoch: 264\n",
      "  Total epochs: 378\n",
      "  Total iterations: 99792\n"
     ]
    }
   ],
   "source": [
    "dataset_path = Path(DATASET_ROOT) / test_dataset\n",
    "print(dataset_path)\n",
    "if dataset_path.exists():\n",
    "    print(f\"Dataset found: {dataset_path}\")\n",
    "    splits = ['train', 'val', 'test']\n",
    "    dataset_info = {}\n",
    "    \n",
    "    for split in splits:\n",
    "        split_path = dataset_path / split\n",
    "        if split_path.exists():\n",
    "            img_count = len(list((split_path / 't1').glob('*')))\n",
    "            dataset_info[split] = img_count\n",
    "            print(f\"  {split}: {img_count} images\")\n",
    "    \n",
    "    # Epoch 수 계산 (MAX_ITERATIONS 기준)\n",
    "    if 'train' in dataset_info:\n",
    "        train_samples = dataset_info['train']\n",
    "        iterations_per_epoch = train_samples // BATCH_SIZE\n",
    "        EPOCHS = MAX_ITERATIONS // iterations_per_epoch\n",
    "        \n",
    "        print(f\"\\nTraining iterations info:\")\n",
    "        print(f\"  Train samples: {train_samples}\")\n",
    "        print(f\"  Iterations per epoch: {iterations_per_epoch}\")\n",
    "        print(f\"  Total epochs: {EPOCHS}\")\n",
    "        print(f\"  Total iterations: {EPOCHS * iterations_per_epoch}\")\n",
    "else:\n",
    "    print(f\"Dataset not found: {dataset_path}\")\n",
    "    raise FileNotFoundError(f\"Dataset {test_dataset} not found at {dataset_path}\")"
   ]
  },
  {
   "cell_type": "markdown",
   "id": "7af0aa62",
   "metadata": {},
   "source": [
    "모델 학습 및 검증"
   ]
  },
  {
   "cell_type": "code",
   "execution_count": null,
   "id": "be47a397",
   "metadata": {},
   "outputs": [],
   "source": [
    "\n",
    "# %% 모델 import\n",
    "from models.a2net_base import A2NetBase\n",
    "from utils.dataset import create_dataloaders\n",
    "from utils.metrics import CDMetrics\n",
    "from utils.losses import BCEDiceLoss\n",
    "\n",
    "# %% 데이터로더 생성\n",
    "train_loader, val_loader, test_loader = create_dataloaders(\n",
    "    root_dir=DATASET_ROOT,\n",
    "    dataset_name=test_dataset,\n",
    "    batch_size=BATCH_SIZE,\n",
    "    num_workers=NUM_WORKERS,\n",
    "    img_size=IMG_SIZE,\n",
    "    augment=True\n",
    ")\n",
    "\n",
    "print(f\"Train batches: {len(train_loader)}\")\n",
    "print(f\"Val batches: {len(val_loader)}\")\n",
    "print(f\"Test batches: {len(test_loader)}\")\n",
    "\n",
    "# %% 모델, 손실함수, 옵티마이저\n",
    "model = A2NetBase(num_classes=1).to(DEVICE)\n",
    "\n",
    "# 손실 함수\n",
    "criterion = BCEDiceLoss()\n",
    "\n",
    "# 옵티마이저 (configs에서 가져온 설정 사용)\n",
    "if optimizer == 'adam':\n",
    "    opt = torch.optim.Adam(\n",
    "        model.parameters(),\n",
    "        lr=learning_rate,\n",
    "        betas=betas,\n",
    "        weight_decay=weight_decay\n",
    "    )\n",
    "\n",
    "# %% 간단한 학습 루프\n",
    "from tqdm import tqdm\n",
    "\n",
    "def train_one_epoch(model, loader, criterion, optimizer, device):\n",
    "    model.train()\n",
    "    total_loss = 0\n",
    "    \n",
    "    for batch in tqdm(loader, desc='Training'):\n",
    "        img1 = batch['img1'].to(device)\n",
    "        img2 = batch['img2'].to(device)\n",
    "        label = batch['label'].to(device)\n",
    "        \n",
    "        # Forward\n",
    "        output = model(img1, img2)\n",
    "        loss = criterion(output, label)\n",
    "        \n",
    "        # Backward\n",
    "        optimizer.zero_grad()\n",
    "        loss.backward()\n",
    "        optimizer.step()\n",
    "        \n",
    "        total_loss += loss.item()\n",
    "    \n",
    "    return total_loss / len(loader)\n",
    "\n",
    "def validate(model, loader, criterion, device):\n",
    "    model.eval()\n",
    "    total_loss = 0\n",
    "    metrics = CDMetrics()\n",
    "    \n",
    "    with torch.no_grad():\n",
    "        for batch in tqdm(loader, desc='Validation'):\n",
    "            img1 = batch['img1'].to(device)\n",
    "            img2 = batch['img2'].to(device)\n",
    "            label = batch['label'].to(device)\n",
    "            \n",
    "            output = model(img1, img2)\n",
    "            loss = criterion(output, label)\n",
    "            \n",
    "            total_loss += loss.item()\n",
    "            metrics.update(output, label)\n",
    "    \n",
    "    results = metrics.get_metrics()\n",
    "    return total_loss / len(loader), results\n",
    "\n",
    "# %% 학습 실행\n",
    "num_epochs = 10  # 테스트용으로 적게 설정\n",
    "\n",
    "for epoch in range(num_epochs):\n",
    "    print(f'\\nEpoch {epoch+1}/{num_epochs}')\n",
    "    \n",
    "    # Train\n",
    "    train_loss = train_one_epoch(model, train_loader, criterion, opt, DEVICE)\n",
    "    print(f'Train Loss: {train_loss:.4f}')\n",
    "    \n",
    "    # Validate\n",
    "    val_loss, val_metrics = validate(model, val_loader, criterion, DEVICE)\n",
    "    print(f'Val Loss: {val_loss:.4f}')\n",
    "    print(f\"Val F1: {val_metrics['f1']:.4f}, IoU: {val_metrics['iou']:.4f}\")\n",
    "    \n",
    "    # 체크포인트 저장\n",
    "    if epoch == 0 or val_metrics['f1'] > best_f1:\n",
    "        best_f1 = val_metrics['f1']\n",
    "        torch.save({\n",
    "            'epoch': epoch,\n",
    "            'model_state_dict': model.state_dict(),\n",
    "            'optimizer_state_dict': opt.state_dict(),\n",
    "            'best_f1': best_f1,\n",
    "        }, checkpoint_dir / 'best_model.pth')\n",
    "        print(f'Model saved! (F1: {best_f1:.4f})')"
   ]
  },
  {
   "cell_type": "markdown",
   "id": "e2c11a3b",
   "metadata": {},
   "source": []
  }
 ],
 "metadata": {
  "kernelspec": {
   "display_name": "cd_efficient",
   "language": "python",
   "name": "python3"
  },
  "language_info": {
   "codemirror_mode": {
    "name": "ipython",
    "version": 3
   },
   "file_extension": ".py",
   "mimetype": "text/x-python",
   "name": "python",
   "nbconvert_exporter": "python",
   "pygments_lexer": "ipython3",
   "version": "3.9.24"
  }
 },
 "nbformat": 4,
 "nbformat_minor": 5
}
