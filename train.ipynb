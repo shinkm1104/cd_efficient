{
 "cells": [
  {
   "cell_type": "markdown",
   "id": "209fb905",
   "metadata": {},
   "source": [
    "import Basic Module"
   ]
  },
  {
   "cell_type": "code",
   "execution_count": 1,
   "id": "66b3489f",
   "metadata": {},
   "outputs": [],
   "source": [
    "import os\n",
    "import torch\n",
    "import numpy as np\n",
    "from pathlib import Path\n",
    "import time\n",
    "from datetime import datetime, timedelta\n",
    "from tqdm import tqdm\n",
    "# from tqdm.notebook import tqdm\n",
    "# import tqdm as tqdm_module\n",
    "# tqdm_module.tqdm = tqdm  # 전역 tqdm 교체\n",
    "import importlib\n",
    "import json\n",
    "\n",
    "# Utils import (모듈화)\n",
    "from utils import create_dataloaders, CDMetrics, get_loss_fn, CDTrainer\n",
    "\n"
   ]
  },
  {
   "cell_type": "markdown",
   "id": "6759fe0a",
   "metadata": {},
   "source": [
    "CUDA(GPU) 확인"
   ]
  },
  {
   "cell_type": "code",
   "execution_count": 2,
   "id": "6a39f554",
   "metadata": {},
   "outputs": [
    {
     "name": "stdout",
     "output_type": "stream",
     "text": [
      "Using GPU: 1\n",
      "Device: cuda\n"
     ]
    }
   ],
   "source": [
    "# 단일 GPU 사용\n",
    "GPU_ID = 1\n",
    "os.environ['CUDA_VISIBLE_DEVICES'] = str(GPU_ID)\n",
    "DEVICE = torch.device('cuda' if torch.cuda.is_available() else 'cpu')\n",
    "print(f\"Using GPU: {GPU_ID}\")\n",
    "print(f\"Device: {DEVICE}\")"
   ]
  },
  {
   "cell_type": "markdown",
   "id": "2d79a069",
   "metadata": {},
   "source": [
    "데이터셋 & 모델 리스트"
   ]
  },
  {
   "cell_type": "code",
   "execution_count": 3,
   "id": "1184ddc7",
   "metadata": {},
   "outputs": [],
   "source": [
    "# ============================\n",
    "# 데이터셋 리스트\n",
    "# ============================\n",
    "DATASET_ROOT = \"./dataset\"  # 심볼릭 링크된 데이터셋 루트 폴더\n",
    "DATASET_LIST = [\n",
    "    'LEVIR-CD+',\n",
    "    'WHU-CD',\n",
    "    'CLCD',\n",
    "    'CaBuAr-CD',\n",
    "    'S2Looking-CD',\n",
    "    'SEN1Floods11-CD'\n",
    "]"
   ]
  },
  {
   "cell_type": "markdown",
   "id": "2c0aa99c",
   "metadata": {},
   "source": [
    "##### 모델 & 데이터셋 설정"
   ]
  },
  {
   "cell_type": "code",
   "execution_count": 4,
   "id": "a8ea8458",
   "metadata": {},
   "outputs": [
    {
     "name": "stdout",
     "output_type": "stream",
     "text": [
      "Test dataset: LEVIR-CD+\n",
      "Test model: Change3D\n",
      "Module: models.change3d\n",
      "Class: Change3DX3D\n"
     ]
    }
   ],
   "source": [
    "# 실험할 데이터셋\n",
    "TEST_DATASET = 'LEVIR-CD+'\n",
    "\n",
    "TEST_MODEL = 'Change3D'  # 파일명 기준 (대소문자 구분 X, 하이픈 무시)\n",
    "\n",
    "# 실험할 클래스명 (해당 파일 내의 클래스)\n",
    "TEST_CLASS = 'Change3DX3D'  \n",
    "\n",
    "# 이어서하는 경우\n",
    "RESUME = True  # True로 설정하면 자동 재개\n",
    "\n",
    "# ============================\n",
    "# 모델 파일명 변환 함수\n",
    "# ============================\n",
    "def normalize_model_name(model_name):\n",
    "    \"\"\"\n",
    "    모델명을 파일명으로 변환\n",
    "    - 대소문자 -> 소문자\n",
    "    - 하이픈(-) 제거\n",
    "    - 언더스코어(_) 유지\n",
    "    \n",
    "    예시:\n",
    "    'ST-Robust-Net' -> 'strobustnet'\n",
    "    'USSFC-Net' -> 'ussfcnet'\n",
    "    'Change3D' -> 'change3d'\n",
    "    'A2Net' -> 'a2net'\n",
    "    \"\"\"\n",
    "    # 하이픈 제거하고 소문자로 변환\n",
    "    file_name = model_name.replace('-', '').lower()\n",
    "    return file_name\n",
    "\n",
    "# ============================\n",
    "# 모델 정보 설정\n",
    "# ============================\n",
    "model_file = normalize_model_name(TEST_MODEL)\n",
    "model_class = TEST_CLASS\n",
    "\n",
    "print(f\"Test dataset: {TEST_DATASET}\")\n",
    "print(f\"Test model: {TEST_MODEL}\")\n",
    "print(f\"Module: models.{model_file}\")\n",
    "print(f\"Class: {model_class}\")\n"
   ]
  },
  {
   "cell_type": "markdown",
   "id": "3e9d2943",
   "metadata": {},
   "source": [
    "시드 설정"
   ]
  },
  {
   "cell_type": "code",
   "execution_count": 5,
   "id": "c1940def",
   "metadata": {},
   "outputs": [],
   "source": [
    "SEED = 42\n",
    "np.random.seed(SEED)\n",
    "torch.manual_seed(SEED)\n",
    "if torch.cuda.is_available():\n",
    "    torch.cuda.manual_seed(SEED)"
   ]
  },
  {
   "cell_type": "markdown",
   "id": "7cffb5c5",
   "metadata": {},
   "source": [
    "##### 고정 메트릭 설정"
   ]
  },
  {
   "cell_type": "code",
   "execution_count": 6,
   "id": "a71c3add",
   "metadata": {},
   "outputs": [],
   "source": [
    "# 이미지 설정\n",
    "IMG_SIZE = 256 \n",
    "IN_CHANNELS = 3  # RGB\n",
    "OUT_CHANNELS = 1  # Binary change detection\n",
    "\n",
    "# 학습 설정\n",
    "BATCH_SIZE = 16\n",
    "NUM_WORKERS = 4\n",
    "MAX_ITERATIONS = 100000  # 데이터셋 크기와 무관하게 고정\n"
   ]
  },
  {
   "cell_type": "markdown",
   "id": "c49247ef",
   "metadata": {},
   "source": [
    "모델 동적 import"
   ]
  },
  {
   "cell_type": "code",
   "execution_count": 7,
   "id": "c244ab05",
   "metadata": {},
   "outputs": [
    {
     "name": "stdout",
     "output_type": "stream",
     "text": [
      "✅ Successfully loaded: Change3DX3D from models.change3d\n"
     ]
    }
   ],
   "source": [
    "# ============================\n",
    "# 모델 동적 import\n",
    "# ============================\n",
    "def get_model_class(module_name, class_name):\n",
    "    \"\"\"모델 동적 import\"\"\"\n",
    "    module_path = f'models.{module_name}'\n",
    "    \n",
    "    try:\n",
    "        module = importlib.import_module(module_path)\n",
    "        model_class = getattr(module, class_name)\n",
    "        print(f\"✅ Successfully loaded: {class_name} from {module_path}\")\n",
    "        return model_class\n",
    "    except ImportError as e:\n",
    "        print(f\"❌ Cannot import module {module_path}\")\n",
    "        print(f\"   Make sure models/{module_name}.py exists\")\n",
    "        raise ImportError(f\"Module import failed: {e}\")\n",
    "    except AttributeError as e:\n",
    "        print(f\"❌ Class {class_name} not found in {module_path}\")\n",
    "        # 사용 가능한 클래스 목록 출력\n",
    "        try:\n",
    "            module = importlib.import_module(module_path)\n",
    "            available_classes = [name for name in dir(module) \n",
    "                               if not name.startswith('_') and \n",
    "                               name[0].isupper()]  # 대문자로 시작하는 클래스들\n",
    "            print(f\"   Available classes: {available_classes}\")\n",
    "        except:\n",
    "            pass\n",
    "        raise AttributeError(f\"Class not found: {e}\")\n",
    "\n",
    "# 모델 클래스 로드\n",
    "ModelClass = get_model_class(model_file, model_class)"
   ]
  },
  {
   "cell_type": "code",
   "execution_count": 8,
   "id": "3a3b866e",
   "metadata": {},
   "outputs": [
    {
     "name": "stdout",
     "output_type": "stream",
     "text": [
      "\n",
      "Model configurations:\n",
      "  Model: Change3D\n",
      "  Optimizer: adam\n",
      "  Learning rate: 0.0002\n",
      "  Weight decay: 0.0001\n",
      "  Scheduler: poly\n"
     ]
    }
   ],
   "source": [
    "from configs import get_model_config\n",
    "\n",
    "# config는 TEST_MODEL 이름 기준으로 가져오기 (원본 이름 사용)\n",
    "model_config = get_model_config(TEST_MODEL)\n",
    "\n",
    "optimizer = model_config['optimizer']\n",
    "learning_rate = model_config['learning_rate']\n",
    "weight_decay = model_config['weight_decay']\n",
    "betas = model_config.get('betas', (0.9, 0.999))\n",
    "eps = model_config.get('eps', 1e-8)\n",
    "scheduler = model_config.get('scheduler', None)\n",
    "momentum = model_config.get('momentum', 0.9)\n",
    "\n",
    "print(f\"\\nModel configurations:\")\n",
    "print(f\"  Model: {TEST_MODEL}\")\n",
    "print(f\"  Optimizer: {optimizer}\")\n",
    "print(f\"  Learning rate: {learning_rate}\")\n",
    "print(f\"  Weight decay: {weight_decay}\")\n",
    "if momentum and optimizer == 'sgd':\n",
    "    print(f\"  Momentum: {momentum}\")\n",
    "if scheduler:\n",
    "    print(f\"  Scheduler: {scheduler}\")"
   ]
  },
  {
   "cell_type": "markdown",
   "id": "ae099f70",
   "metadata": {},
   "source": [
    "실험 폴더 설정"
   ]
  },
  {
   "cell_type": "code",
   "execution_count": 9,
   "id": "ef46f343",
   "metadata": {},
   "outputs": [
    {
     "name": "stdout",
     "output_type": "stream",
     "text": [
      "Experiment directory: experiments/LEVIR-CD+/Change3D_Change3DX3D\n"
     ]
    }
   ],
   "source": [
    "# 실험 이름: 모델명_클래스명 (클래스명이 모델명과 같으면 생략)\n",
    "if model_class.lower() == TEST_MODEL.lower():\n",
    "    experiment_name = TEST_MODEL\n",
    "else:\n",
    "    experiment_name = f\"{TEST_MODEL}_{model_class}\"\n",
    "\n",
    "test_path = f\"experiments/{TEST_DATASET}\"\n",
    "test_dir = Path(test_path)\n",
    "test_dir.mkdir(parents=True, exist_ok=True)\n",
    "\n",
    "model_dir = Path(f\"{test_path}/{experiment_name}\")\n",
    "model_dir.mkdir(parents=True, exist_ok=True)\n",
    "\n",
    "checkpoint_dir = model_dir / \"checkpoints\"\n",
    "checkpoint_dir.mkdir(exist_ok=True)\n",
    "\n",
    "print(f\"Experiment directory: {model_dir}\")"
   ]
  },
  {
   "cell_type": "markdown",
   "id": "c888eff1",
   "metadata": {},
   "source": [
    "Iteration 계산 \n",
    "MAX_ITERATIONS = 100000을 기준으로 epoch 수 계산\n"
   ]
  },
  {
   "cell_type": "code",
   "execution_count": 10,
   "id": "b884fb96",
   "metadata": {},
   "outputs": [
    {
     "name": "stdout",
     "output_type": "stream",
     "text": [
      "\n",
      "Dataset found: dataset/LEVIR-CD+\n",
      "  train: 10192 images\n",
      "  val: 1568 images\n",
      "  test: 4000 images\n",
      "\n",
      "Training iterations info:\n",
      "  Train samples: 10192\n",
      "  Iterations per epoch: 637\n",
      "  Total epochs: 156\n",
      "  Total iterations: 99372\n"
     ]
    }
   ],
   "source": [
    "dataset_path = Path(DATASET_ROOT) / TEST_DATASET\n",
    "if dataset_path.exists():\n",
    "    print(f\"\\nDataset found: {dataset_path}\")\n",
    "    splits = ['train', 'val', 'test']\n",
    "    dataset_info = {}\n",
    "    \n",
    "    for split in splits:\n",
    "        split_path = dataset_path / split\n",
    "        if split_path.exists():\n",
    "            img_count = len(list((split_path / 't1').glob('*')))\n",
    "            dataset_info[split] = img_count\n",
    "            print(f\"  {split}: {img_count} images\")\n",
    "    \n",
    "    # Epoch 수 계산\n",
    "    if 'train' in dataset_info:\n",
    "        train_samples = dataset_info['train']\n",
    "        iterations_per_epoch = train_samples // BATCH_SIZE\n",
    "        EPOCHS = MAX_ITERATIONS // iterations_per_epoch\n",
    "        \n",
    "        print(f\"\\nTraining iterations info:\")\n",
    "        print(f\"  Train samples: {train_samples}\")\n",
    "        print(f\"  Iterations per epoch: {iterations_per_epoch}\")\n",
    "        print(f\"  Total epochs: {EPOCHS}\")\n",
    "        print(f\"  Total iterations: {EPOCHS * iterations_per_epoch}\")\n",
    "else:\n",
    "    raise FileNotFoundError(f\"Dataset {TEST_DATASET} not found at {dataset_path}\")\n"
   ]
  },
  {
   "cell_type": "markdown",
   "id": "10ee328f",
   "metadata": {},
   "source": [
    "데이터로더 생성"
   ]
  },
  {
   "cell_type": "code",
   "execution_count": 11,
   "id": "be47a397",
   "metadata": {},
   "outputs": [
    {
     "name": "stdout",
     "output_type": "stream",
     "text": [
      "Loaded 10192 images from LEVIR-CD+/train\n",
      "Loaded 1568 images from LEVIR-CD+/val\n",
      "Loaded 4000 images from LEVIR-CD+/test\n"
     ]
    }
   ],
   "source": [
    "train_loader, val_loader, test_loader = create_dataloaders(\n",
    "    root_dir=DATASET_ROOT,\n",
    "    dataset_name=TEST_DATASET,\n",
    "    batch_size=BATCH_SIZE,\n",
    "    num_workers=NUM_WORKERS\n",
    ")"
   ]
  },
  {
   "cell_type": "markdown",
   "id": "7af0aa62",
   "metadata": {},
   "source": [
    "모델 학습 및 검증"
   ]
  },
  {
   "cell_type": "code",
   "execution_count": 12,
   "id": "a2028263",
   "metadata": {},
   "outputs": [
    {
     "name": "stdout",
     "output_type": "stream",
     "text": [
      "Loading pretrained weights from ./pretrained/Change3D/X3D_L.pyth...\n",
      "✅ Successfully loaded X3D-L pretrained weights\n",
      "   Loaded 1139/1141 parameters\n",
      "   Loaded blocks: ['0', '1', '2', '3', '4', '5']\n"
     ]
    }
   ],
   "source": [
    "model = ModelClass(num_classes=1).to(DEVICE)\n",
    "criterion = get_loss_fn('bce_dice')\n",
    "\n",
    "# 옵티마이저\n",
    "if optimizer == 'adam':\n",
    "    opt = torch.optim.Adam(\n",
    "        model.parameters(),\n",
    "        lr=learning_rate,\n",
    "        betas=betas,\n",
    "        eps=eps,\n",
    "        weight_decay=weight_decay\n",
    "    )\n",
    "elif optimizer == 'adamw':\n",
    "    opt = torch.optim.AdamW(\n",
    "        model.parameters(),\n",
    "        lr=learning_rate,\n",
    "        betas=betas,\n",
    "        eps=eps,\n",
    "        weight_decay=weight_decay\n",
    "    )\n",
    "elif optimizer == 'sgd':\n",
    "    opt = torch.optim.SGD(\n",
    "        model.parameters(),\n",
    "        lr=learning_rate,\n",
    "        momentum=momentum,\n",
    "        weight_decay=weight_decay\n",
    "    )\n",
    "else:\n",
    "    raise ValueError(f\"Unknown optimizer: {optimizer}\")\n",
    "\n",
    "# 스케줄러\n",
    "sched = None\n",
    "if scheduler == 'cosine':\n",
    "    sched = torch.optim.lr_scheduler.CosineAnnealingLR(opt, T_max=EPOCHS)\n",
    "elif scheduler == 'linear':\n",
    "    sched = torch.optim.lr_scheduler.LinearLR(opt, start_factor=1.0, end_factor=0.01, total_iters=EPOCHS)\n"
   ]
  },
  {
   "cell_type": "code",
   "execution_count": null,
   "id": "2a4301ba",
   "metadata": {},
   "outputs": [
    {
     "name": "stdout",
     "output_type": "stream",
     "text": [
      "Loading checkpoint: experiments/LEVIR-CD+/Change3D_Change3DX3D/checkpoints/checkpoint_epoch_70.pth\n",
      "Resuming from epoch 71/156\n",
      "\n",
      "============================================================\n",
      "Resuming Training from epoch 71...\n",
      "Remaining epochs: 85\n",
      "============================================================\n",
      "\n",
      "============================================================\n",
      "Starting Training\n",
      "============================================================\n",
      "Total Epochs: 156\n",
      "Iterations per epoch: 637\n",
      "Total iterations: 99372\n",
      "============================================================\n",
      "\n",
      "Overall Progress:   0%|          | 0/156 [00:00<?] "
     ]
    }
   ],
   "source": [
    "# ============================\n",
    "# Trainer 생성 및 학습\n",
    "# ============================\n",
    "trainer = CDTrainer(\n",
    "    model=model,\n",
    "    optimizer=opt,\n",
    "    criterion=criterion,\n",
    "    device=DEVICE,\n",
    "    checkpoint_dir=checkpoint_dir,\n",
    "    scheduler=sched\n",
    ")\n",
    "\n",
    "# 체크포인트 확인 및 로드\n",
    "start_epoch = 0\n",
    "if RESUME:\n",
    "    import glob\n",
    "    checkpoints = sorted(glob.glob(str(checkpoint_dir / \"checkpoint_epoch_*.pth\")))\n",
    "    if checkpoints:\n",
    "        latest_ckpt = checkpoints[-1]\n",
    "        print(f\"Loading checkpoint: {latest_ckpt}\")\n",
    "        \n",
    "        checkpoint = torch.load(latest_ckpt, map_location=DEVICE)\n",
    "        model.load_state_dict(checkpoint['model_state_dict'])\n",
    "        opt.load_state_dict(checkpoint['optimizer_state_dict'])\n",
    "        if sched and 'scheduler_state_dict' in checkpoint:\n",
    "            sched.load_state_dict(checkpoint['scheduler_state_dict'])\n",
    "        \n",
    "        # epoch 번호 추출\n",
    "        start_epoch = checkpoint.get('epoch', 0) + 1\n",
    "        print(f\"Resuming from epoch {start_epoch}/{EPOCHS}\")\n",
    "    else:\n",
    "        print(\"No checkpoint found, starting from scratch\")\n",
    "\n",
    "# 학습 실행 (남은 epoch만)\n",
    "if start_epoch < EPOCHS:\n",
    "    print(\"\\n\" + \"=\"*60)\n",
    "    if start_epoch > 0:\n",
    "        print(f\"Resuming Training from epoch {start_epoch}...\")\n",
    "        print(f\"Remaining epochs: {EPOCHS - start_epoch}\")\n",
    "    else:\n",
    "        print(\"Starting Training...\")\n",
    "    print(\"=\"*60)\n",
    "    \n",
    "    # trainer의 시작 epoch 설정 (trainer가 지원하는 경우)\n",
    "    if hasattr(trainer, 'current_epoch'):\n",
    "        trainer.current_epoch = start_epoch\n",
    "    \n",
    "    trainer.train(\n",
    "        train_loader=train_loader,\n",
    "        val_loader=val_loader,\n",
    "        epochs=EPOCHS,\n",
    "        val_interval=10,\n",
    "        save_interval=50,\n",
    "        start_epoch=start_epoch\n",
    "    )\n",
    "else:\n",
    "    print(f\"Training already completed ({start_epoch} epochs done)\")\n",
    "\n",
    "# ============================\n",
    "# 테스트 및 평가\n",
    "# ============================\n",
    "print(\"\\n\" + \"=\"*60)\n",
    "print(\"Testing...\")\n",
    "print(\"=\"*60)\n",
    "\n",
    "# 테스트\n",
    "test_metrics = trainer.test(test_loader)\n",
    "\n",
    "# 추론 속도 측정\n",
    "speed_metrics = trainer.measure_inference_speed(test_loader)\n",
    "\n",
    "# 결과 저장\n",
    "trainer.save_results(model_dir, experiment_name, TEST_DATASET)\n",
    "\n",
    "# ============================\n",
    "# 최종 결과 정리\n",
    "# ============================\n",
    "total_params = sum(p.numel() for p in model.parameters())\n",
    "print(f\"\\nModel Parameters: {total_params:,}\")\n",
    "\n",
    "final_results = {\n",
    "    'experiment': experiment_name,\n",
    "    'model_file': model_file,\n",
    "    'model_class': model_class,\n",
    "    'dataset': TEST_DATASET,\n",
    "    'test_metrics': test_metrics,\n",
    "    'speed_metrics': speed_metrics,\n",
    "    'parameters': total_params,\n",
    "    'training_config': {\n",
    "        'optimizer': optimizer,\n",
    "        'learning_rate': learning_rate,\n",
    "        'weight_decay': weight_decay,\n",
    "        'scheduler': scheduler,\n",
    "        'epochs': EPOCHS,\n",
    "        'batch_size': BATCH_SIZE\n",
    "    }\n",
    "}\n",
    "\n",
    "with open(model_dir / 'final_results.json', 'w') as f:\n",
    "    json.dump(final_results, f, indent=2)\n",
    "\n",
    "print(\"\\n✅ All completed!\")\n",
    "print(f\"Results saved in: {model_dir}\")"
   ]
  }
 ],
 "metadata": {
  "kernelspec": {
   "display_name": "cd_efficient",
   "language": "python",
   "name": "python3"
  },
  "language_info": {
   "codemirror_mode": {
    "name": "ipython",
    "version": 3
   },
   "file_extension": ".py",
   "mimetype": "text/x-python",
   "name": "python",
   "nbconvert_exporter": "python",
   "pygments_lexer": "ipython3",
   "version": "3.9.24"
  }
 },
 "nbformat": 4,
 "nbformat_minor": 5
}
