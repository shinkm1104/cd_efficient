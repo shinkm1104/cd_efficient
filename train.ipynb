{
 "cells": [
  {
   "cell_type": "markdown",
   "id": "209fb905",
   "metadata": {},
   "source": [
    "import Basic Module"
   ]
  },
  {
   "cell_type": "code",
   "execution_count": 1,
   "id": "66b3489f",
   "metadata": {},
   "outputs": [
    {
     "name": "stderr",
     "output_type": "stream",
     "text": [
      "/userHome/userhome4/kyoungmin/miniconda3/envs/cd_efficient/lib/python3.9/site-packages/tqdm/auto.py:21: TqdmWarning: IProgress not found. Please update jupyter and ipywidgets. See https://ipywidgets.readthedocs.io/en/stable/user_install.html\n",
      "  from .autonotebook import tqdm as notebook_tqdm\n"
     ]
    }
   ],
   "source": [
    "import os\n",
    "import torch\n",
    "import numpy as np\n",
    "from pathlib import Path\n",
    "import time\n",
    "from datetime import datetime, timedelta\n",
    "from tqdm import tqdm\n",
    "import importlib\n",
    "import json\n",
    "\n",
    "# Utils import (모듈화)\n",
    "from utils import create_dataloaders, CDMetrics, get_loss_fn, CDTrainer\n",
    "\n"
   ]
  },
  {
   "cell_type": "markdown",
   "id": "6759fe0a",
   "metadata": {},
   "source": [
    "CUDA(GPU) 확인"
   ]
  },
  {
   "cell_type": "code",
   "execution_count": 2,
   "id": "6a39f554",
   "metadata": {},
   "outputs": [
    {
     "name": "stdout",
     "output_type": "stream",
     "text": [
      "Using GPU: 3\n",
      "Device: cuda\n"
     ]
    }
   ],
   "source": [
    "# 단일 GPU 사용\n",
    "GPU_ID = 3\n",
    "os.environ['CUDA_VISIBLE_DEVICES'] = str(GPU_ID)\n",
    "DEVICE = torch.device('cuda' if torch.cuda.is_available() else 'cpu')\n",
    "print(f\"Using GPU: {GPU_ID}\")\n",
    "print(f\"Device: {DEVICE}\")\n",
    "\n",
    "# 멀티 GPU 사용 \n",
    "# # GPU_IDS = [0, 1, 2, 3]  # 사용할 GPU 리스트\n",
    "# os.environ['CUDA_VISIBLE_DEVICES'] = ','.join(map(str, GPU_IDS))\n",
    "# DEVICE = torch.device('cuda' if torch.cuda.is_available() else 'cpu')\n",
    "# USE_MULTI_GPU = len(GPU_IDS) > 1 and torch.cuda.device_count() > 1\n",
    "# print(f\"Using GPUs: {GPU_IDS}\")\n",
    "# print(f\"Available GPU count: {torch.cuda.device_count()}\")\n",
    "# if USE_MULTI_GPU:\n",
    "#     BATCH_SIZE = BATCH_SIZE * len(GPU_IDS)  # 멀티 GPU시 배치 크기 조정\n",
    "#     print(f\"Adjusted batch size for multi-GPU: {BATCH_SIZE}\")\n",
    "# 시드 설정 (재현가능성)"
   ]
  },
  {
   "cell_type": "markdown",
   "id": "2d79a069",
   "metadata": {},
   "source": [
    "데이터셋 & 모델 리스트"
   ]
  },
  {
   "cell_type": "code",
   "execution_count": 3,
   "id": "1184ddc7",
   "metadata": {},
   "outputs": [],
   "source": [
    "DATASET_ROOT = \"./dataset\"  # 심볼릭 링크된 데이터셋 루트 폴더\n",
    "DATASET_LIST = [\n",
    "    'LEVIR-CD+',\n",
    "    'WHU-CD',\n",
    "    'CLCD',\n",
    "    'CaBuAr-CD',\n",
    "    'S2Looking-CD',\n",
    "    'SEN1Floods11-CD'\n",
    "]\n",
    "\n",
    "MODEL_LIST = [\n",
    "    'A2Net',\n",
    "    'Changer',\n",
    "    'Change3D',\n",
    "    'STRobustNet',\n",
    "    'USSFC-Net'\n",
    "    # 'ChangeMamba',\n",
    "    # 'CDMamba',\n",
    "    # 'ChangeCLIP',\n",
    "    # 'EATDER'\n",
    "]"
   ]
  },
  {
   "cell_type": "markdown",
   "id": "3e9d2943",
   "metadata": {},
   "source": [
    "시드 설정"
   ]
  },
  {
   "cell_type": "code",
   "execution_count": 4,
   "id": "c1940def",
   "metadata": {},
   "outputs": [],
   "source": [
    "SEED = 42\n",
    "np.random.seed(SEED)\n",
    "torch.manual_seed(SEED)\n",
    "if torch.cuda.is_available():\n",
    "    torch.cuda.manual_seed(SEED)"
   ]
  },
  {
   "cell_type": "markdown",
   "id": "7cffb5c5",
   "metadata": {},
   "source": [
    "##### 고정 메트릭 설정"
   ]
  },
  {
   "cell_type": "code",
   "execution_count": 5,
   "id": "a71c3add",
   "metadata": {},
   "outputs": [],
   "source": [
    "# 이미지 설정\n",
    "IMG_SIZE = 256 \n",
    "IN_CHANNELS = 3  # RGB\n",
    "OUT_CHANNELS = 1  # Binary change detection\n",
    "\n",
    "# 학습 설정\n",
    "BATCH_SIZE = 64\n",
    "NUM_WORKERS = 4\n",
    "MAX_ITERATIONS = 100000  # 데이터셋 크기와 무관하게 고정\n"
   ]
  },
  {
   "cell_type": "markdown",
   "id": "2c0aa99c",
   "metadata": {},
   "source": [
    "##### 모델 & 데이터셋 설정"
   ]
  },
  {
   "cell_type": "code",
   "execution_count": 6,
   "id": "a8ea8458",
   "metadata": {},
   "outputs": [
    {
     "name": "stdout",
     "output_type": "stream",
     "text": [
      "Test dataset: LEVIR-CD+\n",
      "Test model: A2Net\n",
      "Using base version: True\n"
     ]
    }
   ],
   "source": [
    "# 실험할 데이터셋 선택\n",
    "test_dataset = 'LEVIR-CD+'  # LEVIR-CD+\n",
    "# test_dataset = DATASET_LIST[0]  # LEVIR-CD+\n",
    "\n",
    "# 실험할 모델 선택\n",
    "test_model = 'A2Net'\n",
    "\n",
    "# True: 최소 구현, False: 전체 구현\n",
    "use_base = True  \n",
    "\n",
    "print(f\"Test dataset: {test_dataset}\")\n",
    "if test_model not in MODEL_LIST:\n",
    "    raise ValueError(f\"Model {test_model} not in MODEL_LIST. Choose from: {MODEL_LIST}\")\n",
    "print(f\"Test model: {test_model}\")\n",
    "print(f\"Using base version: {use_base}\")"
   ]
  },
  {
   "cell_type": "markdown",
   "id": "c49247ef",
   "metadata": {},
   "source": [
    "모델 동적 import"
   ]
  },
  {
   "cell_type": "code",
   "execution_count": 7,
   "id": "c244ab05",
   "metadata": {},
   "outputs": [
    {
     "name": "stdout",
     "output_type": "stream",
     "text": [
      "Loaded: A2NetBase\n"
     ]
    }
   ],
   "source": [
    "def get_model_class(model_name, use_base=False):\n",
    "    \"\"\"모델 동적 import - 자동 경로 생성\"\"\"\n",
    "    \n",
    "    # 모델명을 소문자로 변환\n",
    "    model_name_lower = model_name.lower()\n",
    "    \n",
    "    # base/full에 따른 경로 및 클래스명 생성\n",
    "    if use_base:\n",
    "        module_path = f'models.{model_name_lower}_base'\n",
    "        class_name = f'{model_name}Base'\n",
    "    else:\n",
    "        module_path = f'models.{model_name_lower}'\n",
    "        class_name = model_name\n",
    "    \n",
    "    try:\n",
    "        module = importlib.import_module(module_path)\n",
    "        return getattr(module, class_name)\n",
    "    except (ImportError, AttributeError) as e:\n",
    "        if use_base:\n",
    "            raise ImportError(f\"{model_name} base version not found at {module_path}.{class_name}: {e}\")\n",
    "        else:\n",
    "            # Full 버전이 없으면 base로 폴백\n",
    "            print(f\"Full version not found ({module_path}.{class_name}), falling back to base version\")\n",
    "            return get_model_class(model_name, use_base=True)\n",
    "\n",
    "ModelClass = get_model_class(test_model, use_base)\n",
    "print(f\"Loaded: {ModelClass.__name__}\")"
   ]
  },
  {
   "cell_type": "code",
   "execution_count": 8,
   "id": "3a3b866e",
   "metadata": {},
   "outputs": [
    {
     "name": "stdout",
     "output_type": "stream",
     "text": [
      "Model configurations:\n",
      "  Optimizer: adam\n",
      "  Learning rate: 0.0005\n",
      "  Weight decay: 0.0001\n",
      "  Betas: (0.9, 0.99)\n",
      "  Scheduler: poly\n"
     ]
    }
   ],
   "source": [
    "from configs import get_model_config\n",
    "\n",
    "model_config = get_model_config(test_model)\n",
    "\n",
    "optimizer = model_config['optimizer']\n",
    "learning_rate = model_config['learning_rate']\n",
    "weight_decay = model_config['weight_decay']\n",
    "betas = model_config['betas']\n",
    "eps = model_config['eps']\n",
    "scheduler = model_config['scheduler']\n",
    "momentum = model_config['momentum']\n",
    "\n",
    "print(f\"Model configurations:\")\n",
    "print(f\"  Optimizer: {optimizer}\")\n",
    "print(f\"  Learning rate: {learning_rate}\")\n",
    "print(f\"  Weight decay: {weight_decay}\")\n",
    "if betas:\n",
    "    print(f\"  Betas: {betas}\")\n",
    "if momentum:\n",
    "    print(f\"  Momentum: {momentum}\")\n",
    "print(f\"  Scheduler: {scheduler}\")\n"
   ]
  },
  {
   "cell_type": "markdown",
   "id": "404bde24",
   "metadata": {},
   "source": [
    "옵티마이저 생성 함수"
   ]
  },
  {
   "cell_type": "code",
   "execution_count": 9,
   "id": "b464924f",
   "metadata": {},
   "outputs": [],
   "source": [
    "def get_optimizer(model, config):\n",
    "    \"\"\"모델 설정에 따른 옵티마이저 생성\"\"\"\n",
    "    if config['optimizer'] == 'adam':\n",
    "        optimizer = torch.optim.Adam(\n",
    "            model.parameters(), \n",
    "            lr=config['learning_rate'],\n",
    "            betas=config['betas'],\n",
    "            eps=config['eps'],\n",
    "            weight_decay=config['weight_decay']\n",
    "        )\n",
    "    elif config['optimizer'] == 'adamw':\n",
    "        optimizer = torch.optim.AdamW(\n",
    "            model.parameters(),\n",
    "            lr=config['learning_rate'],\n",
    "            betas=config['betas'],\n",
    "            eps=config['eps'],\n",
    "            weight_decay=config['weight_decay']\n",
    "        )\n",
    "    elif config['optimizer'] == 'sgd':\n",
    "        optimizer = torch.optim.SGD(\n",
    "            model.parameters(),\n",
    "            lr=config['learning_rate'],\n",
    "            momentum=config['momentum'],\n",
    "            weight_decay=config['weight_decay']\n",
    "        )\n",
    "    else:\n",
    "        raise ValueError(f\"Unknown optimizer: {config['optimizer']}\")\n",
    "    \n",
    "    return optimizer"
   ]
  },
  {
   "cell_type": "markdown",
   "id": "ae099f70",
   "metadata": {},
   "source": [
    "실험 폴더 설정"
   ]
  },
  {
   "cell_type": "code",
   "execution_count": 10,
   "id": "ef46f343",
   "metadata": {},
   "outputs": [
    {
     "name": "stdout",
     "output_type": "stream",
     "text": [
      "Experiment directory: experiments/LEVIR-CD+/A2Net\n"
     ]
    }
   ],
   "source": [
    "test_path = f\"experiments/{test_dataset}\"\n",
    "test_dir = Path(f\"{test_path}\")\n",
    "test_dir.mkdir(parents=True, exist_ok=True)\n",
    "\n",
    "model_dir = Path(f\"{test_path}/{test_model}\")\n",
    "model_dir.mkdir(parents=True, exist_ok=True)\n",
    "\n",
    "checkpoint_dir = model_dir / \"checkpoints\"\n",
    "checkpoint_dir.mkdir(exist_ok=True)\n",
    "\n",
    "print(f\"Experiment directory: {model_dir}\")"
   ]
  },
  {
   "cell_type": "markdown",
   "id": "c888eff1",
   "metadata": {},
   "source": [
    "Iteration 계산 \n",
    "MAX_ITERATIONS = 100000을 기준으로 epoch 수 계산\n"
   ]
  },
  {
   "cell_type": "code",
   "execution_count": 11,
   "id": "b884fb96",
   "metadata": {},
   "outputs": [
    {
     "name": "stdout",
     "output_type": "stream",
     "text": [
      "dataset/LEVIR-CD+\n",
      "Dataset found: dataset/LEVIR-CD+\n",
      "  train: 10192 images\n",
      "  val: 1568 images\n",
      "  test: 4000 images\n",
      "\n",
      "Training iterations info:\n",
      "  Train samples: 10192\n",
      "  Iterations per epoch: 159\n",
      "  Total epochs: 628\n",
      "  Total iterations: 99852\n"
     ]
    }
   ],
   "source": [
    "dataset_path = Path(DATASET_ROOT) / test_dataset\n",
    "print(dataset_path)\n",
    "if dataset_path.exists():\n",
    "    print(f\"Dataset found: {dataset_path}\")\n",
    "    splits = ['train', 'val', 'test']\n",
    "    dataset_info = {}\n",
    "    \n",
    "    for split in splits:\n",
    "        split_path = dataset_path / split\n",
    "        if split_path.exists():\n",
    "            img_count = len(list((split_path / 't1').glob('*')))\n",
    "            dataset_info[split] = img_count\n",
    "            print(f\"  {split}: {img_count} images\")\n",
    "    \n",
    "    # Epoch 수 계산 (MAX_ITERATIONS 기준)\n",
    "    if 'train' in dataset_info:\n",
    "        train_samples = dataset_info['train']\n",
    "        iterations_per_epoch = train_samples // BATCH_SIZE\n",
    "        EPOCHS = MAX_ITERATIONS // iterations_per_epoch\n",
    "        \n",
    "        print(f\"\\nTraining iterations info:\")\n",
    "        print(f\"  Train samples: {train_samples}\")\n",
    "        print(f\"  Iterations per epoch: {iterations_per_epoch}\")\n",
    "        print(f\"  Total epochs: {EPOCHS}\")\n",
    "        print(f\"  Total iterations: {EPOCHS * iterations_per_epoch}\")\n",
    "else:\n",
    "    print(f\"Dataset not found: {dataset_path}\")\n",
    "    raise FileNotFoundError(f\"Dataset {test_dataset} not found at {dataset_path}\")"
   ]
  },
  {
   "cell_type": "markdown",
   "id": "10ee328f",
   "metadata": {},
   "source": [
    "데이터로더 생성"
   ]
  },
  {
   "cell_type": "code",
   "execution_count": 12,
   "id": "be47a397",
   "metadata": {},
   "outputs": [
    {
     "name": "stdout",
     "output_type": "stream",
     "text": [
      "Loaded 10192 images from LEVIR-CD+/train\n",
      "Loaded 1568 images from LEVIR-CD+/val\n",
      "Loaded 4000 images from LEVIR-CD+/test\n"
     ]
    }
   ],
   "source": [
    "train_loader, val_loader, test_loader = create_dataloaders(\n",
    "    root_dir=DATASET_ROOT,\n",
    "    dataset_name=test_dataset,\n",
    "    batch_size=BATCH_SIZE,\n",
    "    num_workers=NUM_WORKERS\n",
    ")\n"
   ]
  },
  {
   "cell_type": "markdown",
   "id": "7af0aa62",
   "metadata": {},
   "source": [
    "모델 학습 및 검증"
   ]
  },
  {
   "cell_type": "code",
   "execution_count": null,
   "id": "a2028263",
   "metadata": {},
   "outputs": [],
   "source": [
    "model = ModelClass(num_classes=1).to(DEVICE)\n",
    "criterion = get_loss_fn('bce_dice')\n",
    "\n",
    "# 옵티마이저\n",
    "if optimizer == 'adam':\n",
    "    opt = torch.optim.Adam(\n",
    "        model.parameters(),\n",
    "        lr=learning_rate,\n",
    "        weight_decay=weight_decay\n",
    "    )\n",
    "elif optimizer == 'adamw':\n",
    "    opt = torch.optim.AdamW(\n",
    "        model.parameters(),\n",
    "        lr=learning_rate,\n",
    "        weight_decay=weight_decay\n",
    "    )\n",
    "\n",
    "# 스케줄러\n",
    "sched = None\n",
    "if scheduler == 'cosine':\n",
    "    sched = torch.optim.lr_scheduler.CosineAnnealingLR(opt, T_max=EPOCHS)\n",
    "\n",
    "# %% Trainer 생성 및 학습\n",
    "trainer = CDTrainer(\n",
    "    model=model,\n",
    "    optimizer=opt,\n",
    "    criterion=criterion,\n",
    "    device=DEVICE,\n",
    "    checkpoint_dir=checkpoint_dir,\n",
    "    scheduler=sched\n",
    ")\n",
    "\n",
    "# 학습 실행\n",
    "trainer.train(\n",
    "    train_loader=train_loader,\n",
    "    val_loader=val_loader,\n",
    "    epochs=EPOCHS,\n",
    "    val_interval=1,\n",
    "    save_interval=50\n",
    ")\n",
    "\n",
    "# %% 테스트 및 속도 측정\n",
    "# 테스트\n",
    "test_metrics = trainer.test(test_loader)\n",
    "\n",
    "# 추론 속도\n",
    "speed_metrics = trainer.measure_inference_speed(test_loader)\n",
    "\n",
    "# 결과 저장\n",
    "trainer.save_results(model_dir, test_model, test_dataset)\n",
    "\n",
    "# %% 모델 파라미터 수\n",
    "total_params = sum(p.numel() for p in model.parameters())\n",
    "print(f\"\\nModel Parameters: {total_params:,}\")\n",
    "\n",
    "# 최종 결과\n",
    "final_results = {\n",
    "    'model': test_model,\n",
    "    'base_version': use_base,\n",
    "    'dataset': test_dataset,\n",
    "    'test_metrics': test_metrics,\n",
    "    'speed_metrics': speed_metrics,\n",
    "    'parameters': total_params\n",
    "}\n",
    "\n",
    "with open(model_dir / 'final_results.json', 'w') as f:\n",
    "    json.dump(final_results, f, indent=2)\n",
    "\n",
    "print(\"\\n✓ All completed!\")"
   ]
  },
  {
   "cell_type": "code",
   "execution_count": 14,
   "id": "19b7515e",
   "metadata": {},
   "outputs": [
    {
     "name": "stdout",
     "output_type": "stream",
     "text": [
      "\n",
      "============================================================\n",
      "Inference & Speed Measurement\n",
      "============================================================\n"
     ]
    },
    {
     "ename": "NameError",
     "evalue": "name 'model' is not defined",
     "output_type": "error",
     "traceback": [
      "\u001b[0;31m---------------------------------------------------------------------------\u001b[0m",
      "\u001b[0;31mNameError\u001b[0m                                 Traceback (most recent call last)",
      "\u001b[0;32m/tmp/ipykernel_4102137/3807046218.py\u001b[0m in \u001b[0;36m<cell line: 8>\u001b[0;34m()\u001b[0m\n\u001b[1;32m      8\u001b[0m \u001b[0;32mif\u001b[0m \u001b[0mbest_model_path\u001b[0m\u001b[0;34m.\u001b[0m\u001b[0mexists\u001b[0m\u001b[0;34m(\u001b[0m\u001b[0;34m)\u001b[0m\u001b[0;34m:\u001b[0m\u001b[0;34m\u001b[0m\u001b[0;34m\u001b[0m\u001b[0m\n\u001b[1;32m      9\u001b[0m     \u001b[0mcheckpoint\u001b[0m \u001b[0;34m=\u001b[0m \u001b[0mtorch\u001b[0m\u001b[0;34m.\u001b[0m\u001b[0mload\u001b[0m\u001b[0;34m(\u001b[0m\u001b[0mbest_model_path\u001b[0m\u001b[0;34m,\u001b[0m \u001b[0mmap_location\u001b[0m\u001b[0;34m=\u001b[0m\u001b[0mDEVICE\u001b[0m\u001b[0;34m)\u001b[0m\u001b[0;34m\u001b[0m\u001b[0;34m\u001b[0m\u001b[0m\n\u001b[0;32m---> 10\u001b[0;31m     \u001b[0mmodel\u001b[0m\u001b[0;34m.\u001b[0m\u001b[0mload_state_dict\u001b[0m\u001b[0;34m(\u001b[0m\u001b[0mcheckpoint\u001b[0m\u001b[0;34m[\u001b[0m\u001b[0;34m'model_state_dict'\u001b[0m\u001b[0;34m]\u001b[0m\u001b[0;34m)\u001b[0m\u001b[0;34m\u001b[0m\u001b[0;34m\u001b[0m\u001b[0m\n\u001b[0m\u001b[1;32m     11\u001b[0m     \u001b[0mprint\u001b[0m\u001b[0;34m(\u001b[0m\u001b[0;34mf\"\\n✓ Loaded best model from epoch {checkpoint['epoch']}\"\u001b[0m\u001b[0;34m)\u001b[0m\u001b[0;34m\u001b[0m\u001b[0;34m\u001b[0m\u001b[0m\n\u001b[1;32m     12\u001b[0m     \u001b[0mprint\u001b[0m\u001b[0;34m(\u001b[0m\u001b[0;34mf\"  Best F1: {checkpoint.get('best_f1', 0):.4f}\"\u001b[0m\u001b[0;34m)\u001b[0m\u001b[0;34m\u001b[0m\u001b[0;34m\u001b[0m\u001b[0m\n",
      "\u001b[0;31mNameError\u001b[0m: name 'model' is not defined"
     ]
    }
   ],
   "source": [
    "\n",
    "print(\"\\n\" + \"=\"*60)\n",
    "print(\"Inference & Speed Measurement\")\n",
    "print(\"=\"*60)\n",
    "\n",
    "# %% Best 모델 로드\n",
    "best_model_path = checkpoint_dir / 'best_model.pth'\n",
    "\n",
    "if best_model_path.exists():\n",
    "    checkpoint = torch.load(best_model_path, map_location=DEVICE)\n",
    "    model.load_state_dict(checkpoint['model_state_dict'])\n",
    "    print(f\"\\n✓ Loaded best model from epoch {checkpoint['epoch']}\")\n",
    "    print(f\"  Best F1: {checkpoint.get('best_f1', 0):.4f}\")\n",
    "    print(f\"  Best IoU: {checkpoint.get('best_iou', 0):.4f}\")\n",
    "else:\n",
    "    print(\"\\n⚠ Best model not found, using current model state\")\n",
    "\n",
    "model.eval()\n",
    "\n",
    "# %% 전체 테스트셋 추론\n",
    "print(\"\\n\" + \"-\"*60)\n",
    "print(\"Testing on full test set...\")\n",
    "print(\"-\"*60)\n",
    "\n",
    "test_metrics = CDMetrics()\n",
    "test_loss = 0\n",
    "\n",
    "# 추론 시간 측정용\n",
    "inference_times = []\n",
    "total_pixels = 0\n",
    "\n",
    "with torch.no_grad():\n",
    "    for batch in tqdm(test_loader, desc='Testing'):\n",
    "        img1 = batch['img1'].to(DEVICE)\n",
    "        img2 = batch['img2'].to(DEVICE)\n",
    "        label = batch['label'].to(DEVICE)\n",
    "        \n",
    "        # Loss 계산\n",
    "        output = model(img1, img2)\n",
    "        loss = criterion(output, label)\n",
    "        test_loss += loss.item()\n",
    "        \n",
    "        # 메트릭 업데이트\n",
    "        test_metrics.update(output, label)\n",
    "        \n",
    "        # 추론 시간 측정 (개별 샘플)\n",
    "        for i in range(img1.size(0)):\n",
    "            if DEVICE.type == 'cuda':\n",
    "                torch.cuda.synchronize()\n",
    "            \n",
    "            start_time = time.time()\n",
    "            _ = model(img1[i:i+1], img2[i:i+1])\n",
    "            \n",
    "            if DEVICE.type == 'cuda':\n",
    "                torch.cuda.synchronize()\n",
    "            \n",
    "            inference_times.append(time.time() - start_time)\n",
    "            total_pixels += img1.size(-2) * img1.size(-1)\n",
    "\n",
    "avg_test_loss = test_loss / len(test_loader)\n",
    "test_results = test_metrics.get_metrics()\n",
    "\n",
    "print(f\"\\n{'Test Results':^60}\")\n",
    "print(\"=\"*60)\n",
    "print(f\"  Loss:      {avg_test_loss:.4f}\")\n",
    "print(f\"  F1 Score:  {test_results['f1']:.4f}\")\n",
    "print(f\"  IoU:       {test_results['iou']:.4f}\")\n",
    "print(f\"  Precision: {test_results['precision']:.4f}\")\n",
    "print(f\"  Recall:    {test_results['recall']:.4f}\")\n",
    "print(f\"  OA:        {test_results['oa']:.4f}\")\n",
    "print(f\"  Kappa:     {test_results['kappa']:.4f}\")\n",
    "print(\"=\"*60)\n",
    "\n",
    "# %% 추론 속도 분석\n",
    "print(f\"\\n{'Inference Speed Analysis':^60}\")\n",
    "print(\"=\"*60)\n",
    "\n",
    "inference_times = np.array(inference_times)\n",
    "avg_time = np.mean(inference_times)\n",
    "std_time = np.std(inference_times)\n",
    "min_time = np.min(inference_times)\n",
    "max_time = np.max(inference_times)\n",
    "\n",
    "# FPS 계산\n",
    "fps = 1.0 / avg_time\n",
    "\n",
    "# 이미지당 처리 시간\n",
    "time_per_image_ms = avg_time * 1000\n",
    "\n",
    "# 픽셀당 처리 시간\n",
    "avg_pixels_per_image = total_pixels / len(inference_times)\n",
    "time_per_megapixel = (avg_time / avg_pixels_per_image) * 1e6 * 1000  # ms\n",
    "\n",
    "print(f\"  Total samples:     {len(inference_times)}\")\n",
    "print(f\"  Average time:      {time_per_image_ms:.2f} ms/image\")\n",
    "print(f\"  Std deviation:     {std_time*1000:.2f} ms\")\n",
    "print(f\"  Min time:          {min_time*1000:.2f} ms\")\n",
    "print(f\"  Max time:          {max_time*1000:.2f} ms\")\n",
    "print(f\"  FPS:               {fps:.2f} images/sec\")\n",
    "print(f\"  Time/Megapixel:    {time_per_megapixel:.2f} ms/MP\")\n",
    "print(\"=\"*60)\n",
    "\n",
    "# %% 배치 단위 추론 속도 (더 정확한 측정)\n",
    "print(f\"\\n{'Batch Inference Speed':^60}\")\n",
    "print(\"=\"*60)\n",
    "\n",
    "# Warmup\n",
    "warmup_batch = next(iter(test_loader))\n",
    "img1_warmup = warmup_batch['img1'].to(DEVICE)\n",
    "img2_warmup = warmup_batch['img2'].to(DEVICE)\n",
    "\n",
    "for _ in range(5):\n",
    "    with torch.no_grad():\n",
    "        _ = model(img1_warmup, img2_warmup)\n",
    "\n",
    "if DEVICE.type == 'cuda':\n",
    "    torch.cuda.synchronize()\n",
    "\n",
    "# 실제 측정 (10 배치)\n",
    "num_measure_batches = min(10, len(test_loader))\n",
    "batch_times = []\n",
    "\n",
    "test_iter = iter(test_loader)\n",
    "for _ in range(num_measure_batches):\n",
    "    batch = next(test_iter)\n",
    "    img1 = batch['img1'].to(DEVICE)\n",
    "    img2 = batch['img2'].to(DEVICE)\n",
    "    \n",
    "    if DEVICE.type == 'cuda':\n",
    "        torch.cuda.synchronize()\n",
    "    \n",
    "    start = time.time()\n",
    "    \n",
    "    with torch.no_grad():\n",
    "        _ = model(img1, img2)\n",
    "    \n",
    "    if DEVICE.type == 'cuda':\n",
    "        torch.cuda.synchronize()\n",
    "    \n",
    "    batch_times.append(time.time() - start)\n",
    "\n",
    "avg_batch_time = np.mean(batch_times)\n",
    "batch_fps = BATCH_SIZE / avg_batch_time\n",
    "single_image_time = avg_batch_time / BATCH_SIZE\n",
    "\n",
    "print(f\"  Batch size:        {BATCH_SIZE}\")\n",
    "print(f\"  Batches measured:  {num_measure_batches}\")\n",
    "print(f\"  Avg batch time:    {avg_batch_time*1000:.2f} ms\")\n",
    "print(f\"  Batch FPS:         {batch_fps:.2f} images/sec\")\n",
    "print(f\"  Per image:         {single_image_time*1000:.2f} ms\")\n",
    "print(\"=\"*60)\n",
    "\n",
    "# %% 모델 복잡도 정보\n",
    "print(f\"\\n{'Model Complexity':^60}\")\n",
    "print(\"=\"*60)\n",
    "\n",
    "total_params = sum(p.numel() for p in model.parameters())\n",
    "trainable_params = sum(p.numel() for p in model.parameters() if p.requires_grad)\n",
    "\n",
    "print(f\"  Total parameters:      {total_params:,}\")\n",
    "print(f\"  Trainable parameters:  {trainable_params:,}\")\n",
    "print(f\"  Model size:            {total_params * 4 / 1024 / 1024:.2f} MB (FP32)\")\n",
    "print(\"=\"*60)\n",
    "\n",
    "# %% 결과 저장\n",
    "results_dict = {\n",
    "    'model': test_model,\n",
    "    'dataset': test_dataset,\n",
    "    'test_metrics': {\n",
    "        'loss': avg_test_loss,\n",
    "        'f1': test_results['f1'],\n",
    "        'iou': test_results['iou'],\n",
    "        'precision': test_results['precision'],\n",
    "        'recall': test_results['recall'],\n",
    "        'oa': test_results['oa'],\n",
    "        'kappa': test_results['kappa']\n",
    "    },\n",
    "    'inference_speed': {\n",
    "        'avg_time_ms': float(time_per_image_ms),\n",
    "        'std_time_ms': float(std_time * 1000),\n",
    "        'fps': float(fps),\n",
    "        'batch_time_ms': float(avg_batch_time * 1000),\n",
    "        'batch_fps': float(batch_fps)\n",
    "    },\n",
    "    'model_complexity': {\n",
    "        'total_params': int(total_params),\n",
    "        'trainable_params': int(trainable_params),\n",
    "        'model_size_mb': float(total_params * 4 / 1024 / 1024)\n",
    "    }\n",
    "}\n",
    "\n",
    "# JSON 저장\n",
    "import json\n",
    "results_path = model_dir / 'test_results.json'\n",
    "with open(results_path, 'w') as f:\n",
    "    json.dump(results_dict, f, indent=2)\n",
    "\n",
    "print(f\"\\n✓ Results saved to {results_path}\")\n",
    "\n",
    "print(\"\\n\" + \"=\"*60)\n",
    "print(\"Inference Complete!\")\n",
    "print(\"=\"*60)"
   ]
  }
 ],
 "metadata": {
  "kernelspec": {
   "display_name": "cd_efficient",
   "language": "python",
   "name": "python3"
  },
  "language_info": {
   "codemirror_mode": {
    "name": "ipython",
    "version": 3
   },
   "file_extension": ".py",
   "mimetype": "text/x-python",
   "name": "python",
   "nbconvert_exporter": "python",
   "pygments_lexer": "ipython3",
   "version": "3.9.24"
  }
 },
 "nbformat": 4,
 "nbformat_minor": 5
}
